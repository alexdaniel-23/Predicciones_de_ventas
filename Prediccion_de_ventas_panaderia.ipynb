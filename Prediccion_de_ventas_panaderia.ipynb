{
  "nbformat": 4,
  "nbformat_minor": 0,
  "metadata": {
    "colab": {
      "provenance": [],
      "authorship_tag": "ABX9TyNrMJjbECfpo/o7cEsmiCOe",
      "include_colab_link": true
    },
    "kernelspec": {
      "name": "python3",
      "display_name": "Python 3"
    },
    "language_info": {
      "name": "python"
    }
  },
  "cells": [
    {
      "cell_type": "markdown",
      "metadata": {
        "id": "view-in-github",
        "colab_type": "text"
      },
      "source": [
        "<a href=\"https://colab.research.google.com/github/alexdaniel-23/Predicciones_de_ventas/blob/main/Prediccion_de_ventas_panaderia.ipynb\" target=\"_parent\"><img src=\"https://colab.research.google.com/assets/colab-badge.svg\" alt=\"Open In Colab\"/></a>"
      ]
    },
    {
      "cell_type": "code",
      "source": [
        "from google.colab import drive\n",
        "drive.mount('/content/drive')"
      ],
      "metadata": {
        "colab": {
          "base_uri": "https://localhost:8080/"
        },
        "id": "ohCb2lCfBHjl",
        "outputId": "058dc8d2-ea81-4836-fb75-f7c8545c4897"
      },
      "execution_count": 1,
      "outputs": [
        {
          "output_type": "stream",
          "name": "stdout",
          "text": [
            "Mounted at /content/drive\n"
          ]
        }
      ]
    },
    {
      "cell_type": "code",
      "source": [
        "import pandas as pd\n",
        "prediccion_de_ventas =(\"/content/drive/MyDrive/Proyecto Prediccion de Ventas/sales_predictions.csv\")\n",
        "df =pd.read_csv(prediccion_de_ventas)"
      ],
      "metadata": {
        "id": "sifz7C21BJPW"
      },
      "execution_count": 2,
      "outputs": []
    },
    {
      "cell_type": "code",
      "source": [],
      "metadata": {
        "id": "FcVJ6G7iBnvZ"
      },
      "execution_count": null,
      "outputs": []
    }
  ]
}